{
 "cells": [
  {
   "cell_type": "code",
   "execution_count": 6,
   "id": "78ed2265",
   "metadata": {},
   "outputs": [],
   "source": [
    "#Factorial Number\n",
    "def fact():\n",
    "    print('welcome user')\n",
    "    num=int(input('enter number here:  '))\n",
    "    fact=1\n",
    "    if num<0:\n",
    "        print('does not exist')\n",
    "    elif num==0:\n",
    "        print('the factorial 0 is 1')\n",
    "    else:\n",
    "        for i in range(1,num+1):\n",
    "            fact=fact*i\n",
    "            print(\"the factorial of\",num,\"is\",fact)\n",
    "            \n",
    "            \n",
    "#Dice Game            \n",
    "def dice_game():\n",
    "    \n",
    "    #dice game\n",
    "    #welcome\n",
    "    print('welcome to the chance')\n",
    "    #ask user input from 1-6\n",
    "    user_input=input('please select the number from 1-6')\n",
    "    if int(user_input)>0 and int(user_input)<7:\n",
    "        #display user_input\n",
    "        print('you have selected',user_input)\n",
    "        #throw dice\n",
    "        import random\n",
    "        Dice_result=random.choice('123456')\n",
    "        #compare user_input and Dice_resultprint\n",
    "        if user_input==Dice_result:\n",
    "            print('you win')#if both are same_________>you win\n",
    "\n",
    "        else:\n",
    "            print('you lose')# else _____>you lose\n",
    "\n",
    "    else:\n",
    "        print('invalid')\n",
    "\n",
    "\n",
    "#Budget Game        \n",
    "def budget():\n",
    "    print('Hello welcome to Mumbai')\n",
    "    user_input=input('please enter your name')\n",
    "    print('hello Good Morning,user_input')\n",
    "    budget=int(input('please enter your budget'))\n",
    "    if budget>=500:\n",
    "        print('ola se ja ')\n",
    "    elif budget>=250 and budget<500:\n",
    "        print('auto se ja')\n",
    "    elif budget>=100 and budget<250:\n",
    "        print('train se ja')\n",
    "    elif budggreetingset>=10  and budget<100:\n",
    "        print('bus se ja')\n",
    "    else:\n",
    "        print('ghar pe jaa')\n",
    "\n",
    "\n",
    "#Cube Game\n",
    "#Greetings\n",
    "def greetings():\n",
    "    print('Hello welcome to the world of coding ')\n",
    "    \n",
    "#reating Cube\n",
    "#Taking user input\n",
    "def create_cube():\n",
    "    cube_no=int(input('Enter the integer here: '))\n",
    "\n",
    "\n",
    "    #By using loop\n",
    "    for i in range(1,cube_no+1):\n",
    "        if i==1:\n",
    "            print('cube of 1 is:1')\n",
    "        else:\n",
    "            print(\"cube of\",i,\"is\",(i**3))\n",
    "\n",
    "            \n",
    "#Even OR Odd\n",
    "#checking even or odd\n",
    "def even_odd():\n",
    "    print(\"welcome user\")\n",
    "    num=int(input('enter the number here'))\n",
    "    if(num%2)==0:\n",
    "        print('the niumber is even')\n",
    "    \n",
    "    else:\n",
    "        print(\"the number is odd\")\n",
    "        \n",
    "\n",
    "import tkinter as tk\n",
    "#main window\n",
    "window=tk.Tk()\n",
    "\n",
    "#title change\n",
    "window.title('python project')\n",
    "\n",
    "#size change\n",
    "window.geometry('500x500')\n",
    "\n",
    "#label\n",
    "tk.Label(window,text='python project',font=('Helvetica',18)).place(x=60,y=50)\n",
    "\n",
    "#Buttons\n",
    "tk.Button(window,text='Factorial number',command=fact).place(x=60,y=130)\n",
    "tk.Button(window,text='Dice Game',command=dice_game).place(x=220,y=130)\n",
    "tk.Button(window,text='Budget Game',command=budget).place(x=350,y=130)\n",
    "tk.Button(window,text='Cube Game',command=create_cube).place(x=220,y=260)\n",
    "tk.Button(window,text='even or odd',command=even_odd).place(x=320,y=260)\n",
    "\n",
    "\n",
    "#window....mainloop\n",
    "window.mainloop()      "
   ]
  },
  {
   "cell_type": "code",
   "execution_count": 2,
   "id": "7b777142",
   "metadata": {},
   "outputs": [
    {
     "name": "stdout",
     "output_type": "stream",
     "text": [
      "welcome user\n",
      "enter number here:  6\n",
      "the factorial of 6 is 1\n",
      "the factorial of 6 is 2\n",
      "the factorial of 6 is 6\n",
      "the factorial of 6 is 24\n",
      "the factorial of 6 is 120\n",
      "the factorial of 6 is 720\n"
     ]
    }
   ],
   "source": [
    "fact()\n"
   ]
  },
  {
   "cell_type": "code",
   "execution_count": 3,
   "id": "5071897a",
   "metadata": {},
   "outputs": [],
   "source": [
    "def dice_game():\n",
    "    \n",
    "    #dice game\n",
    "    #welcome\n",
    "    print('welcome to the chance')\n",
    "    #ask user input from 1-6\n",
    "    user_input=input('please select the number from 1-6')\n",
    "    if int(user_input)>0 and int(user_input)<7:\n",
    "        #display user_input\n",
    "        print('you have selected',user_input)\n",
    "        #throw dice\n",
    "        import random\n",
    "        Dice_result=random.choice('123456')\n",
    "        #compare user_input and Dice_resultprint\n",
    "        if user_input==Dice_result:\n",
    "            print('you win')#if both are same_________>you win\n",
    "\n",
    "        else:\n",
    "            print('you lose')# else _____>you lose\n",
    "\n",
    "    else:\n",
    "        print('invalid')\n",
    "\n"
   ]
  },
  {
   "cell_type": "code",
   "execution_count": 4,
   "id": "6b86cb77",
   "metadata": {},
   "outputs": [
    {
     "name": "stdout",
     "output_type": "stream",
     "text": [
      "welcome to the chance\n",
      "please select the number from 1-65\n",
      "you have selected 5\n",
      "you lose\n"
     ]
    }
   ],
   "source": [
    "dice_game()"
   ]
  },
  {
   "cell_type": "code",
   "execution_count": 5,
   "id": "cda4e5eb",
   "metadata": {},
   "outputs": [
    {
     "name": "stdout",
     "output_type": "stream",
     "text": [
      "Hello welcome to Mumbai\n",
      "please enter your namePranav\n",
      "hello Good Morning,user_input\n",
      "please enter your budget500\n",
      "ola se ja \n"
     ]
    }
   ],
   "source": [
    "#user welcome mumbai\n",
    "print('Hello welcome to Mumbai')\n",
    "#user name \n",
    "user_input=input('please enter your name')\n",
    "#greet user\n",
    "print('hello Good Morning,user_input')\n",
    "#budget\n",
    "budget=int(input('please enter your budget'))\n",
    "#500>ola\n",
    "if budget>=500:\n",
    "    print('ola se ja ')\n",
    "    \n",
    "#250 and 500 auto \n",
    "elif budget>=250 and budget<500:\n",
    "    print('auto se ja')\n",
    "    \n",
    "#100 and 250 train\n",
    "elif budget>=100 and budget<250:\n",
    "    print('train se ja')\n",
    "    \n",
    "#10 and 100 bus\n",
    "elif budggreetingset>=10  and budget<100:\n",
    "    print('bus se ja')\n",
    "    \n",
    "#<10 ghar pe \n",
    "else:\n",
    "    print('ghar pe jaa')"
   ]
  },
  {
   "cell_type": "code",
   "execution_count": null,
   "id": "74a1acc0",
   "metadata": {},
   "outputs": [],
   "source": [
    "def dice_game():\n",
    "    \n",
    "    #dice game\n",
    "    #welcome\n",
    "    print('welcome to the chance')\n",
    "    #ask user input from 1-6\n",
    "    user_input=input('please select the number from 1-6')\n",
    "    if int(user_input)>0 and int(user_input)<7:\n",
    "        #display user_input\n",
    "        print('you have selected',user_input)\n",
    "        #throw dice\n",
    "        import random\n",
    "        Dice_result=random.choice('123456')\n",
    "        #compare user_input and Dice_resultprint\n",
    "        if user_input==Dice_result:\n",
    "            print('you win')#if both are same_________>you win\n",
    "\n",
    "        else:\n",
    "            print('you lose')# else _____>you lose\n",
    "\n",
    "    else:\n",
    "        print('invalid')\n",
    "\n",
    "\n",
    "            \n",
    "        \n",
    "import tkinter as tk\n",
    "#main window\n",
    "window=tk.Tk()\n",
    "\n",
    "#title change\n",
    "window.title('python project')\n",
    "\n",
    "#size change\n",
    "window.geometry('500x500')\n",
    "\n",
    "#label\n",
    "tk.Label(window,text='python project',font=('Helvetica',18)).place(x=170,y=50)\n",
    "\n",
    "#button\n",
    "tk.Button(window,text='Multiple Dice Game',command=dice_game).place(x=60,y=150)\n",
    "\n",
    "#window....mainloop\n",
    "window.mainloop()"
   ]
  },
  {
   "cell_type": "code",
   "execution_count": 14,
   "id": "bf2a482f",
   "metadata": {},
   "outputs": [
    {
     "name": "stdout",
     "output_type": "stream",
     "text": [
      "s\\hP\\.~oEoZw5(#X\n"
     ]
    }
   ],
   "source": [
    "import random\n",
    "import string\n",
    "\n",
    "def generate_password(length=12):\n",
    "    # Define the character sets for the password\n",
    "    characters = string.ascii_letters + string.digits + string.punctuation\n",
    "\n",
    "    # Generate a random password by selecting characters from the character set\n",
    "    password = ''.join(random.choice(characters) for _ in range(length))\n",
    "\n",
    "    return password\n",
    "\n",
    "# Usage example: Generate a 16-character password\n",
    "password = generate_password(16)\n",
    "print(password)\n",
    "\n"
   ]
  },
  {
   "cell_type": "code",
   "execution_count": 33,
   "id": "0814938f",
   "metadata": {},
   "outputs": [],
   "source": [
    "#Greetings\n",
    "def greetings():\n",
    "    print('Hello welcome to the world of coding ')\n",
    "    \n",
    "#reating Cube\n",
    "#Taking user input\n",
    "def create_cube():\n",
    "    cube_no=int(input('Enter the integer here: '))\n",
    "\n",
    "\n",
    "    #By using loop\n",
    "    for i in range(1,cube_no+1):\n",
    "        if i==1:\n",
    "            print('cube of 1 is:1')\n",
    "        else:\n",
    "            print(\"cube of\",i,\"is\",(i**3))\n"
   ]
  },
  {
   "cell_type": "code",
   "execution_count": 35,
   "id": "72ab1a0a",
   "metadata": {},
   "outputs": [
    {
     "name": "stdout",
     "output_type": "stream",
     "text": [
      "Enter the integer here: 3\n",
      "cube of 1 is:1\n",
      "cube of 2 is 8\n",
      "cube of 3 is 27\n"
     ]
    }
   ],
   "source": [
    "create_cube()\n"
   ]
  },
  {
   "cell_type": "code",
   "execution_count": 2,
   "id": "e4572158",
   "metadata": {},
   "outputs": [],
   "source": [
    "#checking even or odd\n",
    "def even_odd():\n",
    "    print(\"welcome user\")\n",
    "    num=int(input('enter the number here'))\n",
    "    if(num%2)==0:\n",
    "        print('the niumber is even')\n",
    "    \n",
    "    else:\n",
    "        print(\"the number is odd\")"
   ]
  },
  {
   "cell_type": "code",
   "execution_count": 3,
   "id": "c92ff7a1",
   "metadata": {},
   "outputs": [
    {
     "name": "stdout",
     "output_type": "stream",
     "text": [
      "welcome user\n",
      "enter the number here5\n",
      "the number is odd\n"
     ]
    }
   ],
   "source": [
    "even_odd()\n"
   ]
  },
  {
   "cell_type": "code",
   "execution_count": 3,
   "id": "a92a80bc",
   "metadata": {},
   "outputs": [
    {
     "ename": "NameError",
     "evalue": "name 'password' is not defined",
     "output_type": "error",
     "traceback": [
      "\u001b[1;31m---------------------------------------------------------------------------\u001b[0m",
      "\u001b[1;31mNameError\u001b[0m                                 Traceback (most recent call last)",
      "Cell \u001b[1;32mIn[3], line 4\u001b[0m\n\u001b[0;32m      2\u001b[0m Password\u001b[38;5;241m=\u001b[39m\u001b[38;5;124m\"\u001b[39m\u001b[38;5;124m \u001b[39m\u001b[38;5;124m\"\u001b[39m\n\u001b[0;32m      3\u001b[0m \u001b[38;5;28;01mfor\u001b[39;00m i \u001b[38;5;129;01min\u001b[39;00m \u001b[38;5;28mrange\u001b[39m(\u001b[38;5;241m8\u001b[39m):\n\u001b[1;32m----> 4\u001b[0m     Password\u001b[38;5;241m=\u001b[39mpassword\u001b[38;5;241m+\u001b[39m(random\u001b[38;5;241m.\u001b[39mchoice(\u001b[38;5;124m\"\u001b[39m\u001b[38;5;124mkalepranav4563246\u001b[39m\u001b[38;5;124m\"\u001b[39m))\n",
      "\u001b[1;31mNameError\u001b[0m: name 'password' is not defined"
     ]
    }
   ],
   "source": [
    "import random\n",
    "Password=\" \"\n",
    "for i in range(8):\n",
    "    Password=password+(random.choice(\"kalepranav4563246\"))\n",
    "    "
   ]
  },
  {
   "cell_type": "code",
   "execution_count": 12,
   "id": "05a5d644",
   "metadata": {},
   "outputs": [
    {
     "name": "stdout",
     "output_type": "stream",
     "text": [
      " \n"
     ]
    }
   ],
   "source": [
    "print(Password)"
   ]
  },
  {
   "cell_type": "code",
   "execution_count": null,
   "id": "339d410d",
   "metadata": {},
   "outputs": [],
   "source": []
  }
 ],
 "metadata": {
  "kernelspec": {
   "display_name": "Python 3 (ipykernel)",
   "language": "python",
   "name": "python3"
  },
  "language_info": {
   "codemirror_mode": {
    "name": "ipython",
    "version": 3
   },
   "file_extension": ".py",
   "mimetype": "text/x-python",
   "name": "python",
   "nbconvert_exporter": "python",
   "pygments_lexer": "ipython3",
   "version": "3.11.3"
  }
 },
 "nbformat": 4,
 "nbformat_minor": 5
}
